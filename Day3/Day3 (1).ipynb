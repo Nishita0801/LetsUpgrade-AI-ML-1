{
 "cells": [
  {
   "cell_type": "markdown",
   "metadata": {},
   "source": [
    "\n",
    "#### Question1\n",
    "#### Write a program to subtract two complex numbers in Python."
   ]
  },
  {
   "cell_type": "code",
   "execution_count": 1,
   "metadata": {},
   "outputs": [
    {
     "data": {
      "text/plain": [
       "(2+7j)"
      ]
     },
     "execution_count": 1,
     "metadata": {},
     "output_type": "execute_result"
    }
   ],
   "source": [
    "a=3+9j\n",
    "b=1+2j\n",
    "a-b"
   ]
  },
  {
   "cell_type": "markdown",
   "metadata": {},
   "source": [
    "#### Question 2 :\n",
    "#### Write a program to find the fourth root of a number\n"
   ]
  },
  {
   "cell_type": "code",
   "execution_count": 14,
   "metadata": {},
   "outputs": [
    {
     "name": "stdout",
     "output_type": "stream",
     "text": [
      "enter a number2401\n",
      "7.0\n"
     ]
    }
   ],
   "source": [
    "n=int(input(\"enter a number\"))\n",
    "ans=n**(1/4)\n",
    "print(ans)\n"
   ]
  },
  {
   "cell_type": "markdown",
   "metadata": {},
   "source": [
    "#### Question 3:\n",
    "#### Write a program to swap two numbers in Python with the help of a temporary variable.\n"
   ]
  },
  {
   "cell_type": "code",
   "execution_count": 3,
   "metadata": {},
   "outputs": [
    {
     "name": "stdout",
     "output_type": "stream",
     "text": [
      "After Swapping\n",
      "a= 100\n",
      "b= 10\n"
     ]
    }
   ],
   "source": [
    "a=10\n",
    "b=100\n",
    "temp=a\n",
    "a=b\n",
    "b=temp\n",
    "print(\"After Swapping\")\n",
    "print('a=',a)\n",
    "print(\"b=\",b)"
   ]
  },
  {
   "cell_type": "markdown",
   "metadata": {},
   "source": [
    "#### Question 4:\n",
    "#### Write a program to swap two numbers in Python without using a temporary variable."
   ]
  },
  {
   "cell_type": "code",
   "execution_count": 7,
   "metadata": {},
   "outputs": [
    {
     "name": "stdout",
     "output_type": "stream",
     "text": [
      "After Swapping\n",
      "a= 100\n",
      "b= 10\n"
     ]
    }
   ],
   "source": [
    "a,b=b,a\n",
    "print(\"After Swapping\")\n",
    "print('a=',a)\n",
    "print(\"b=\",b)\n"
   ]
  },
  {
   "cell_type": "markdown",
   "metadata": {},
   "source": [
    "#### Question 5:\n",
    "#### Write a program to convert fahrenheit to kelvin and celsius both.\n"
   ]
  },
  {
   "cell_type": "code",
   "execution_count": 11,
   "metadata": {},
   "outputs": [
    {
     "name": "stdout",
     "output_type": "stream",
     "text": [
      "enter temprature in fahrenheit98\n",
      "temp in kelvin 309.81666666666666\n",
      "temp in celcius 36.66666666666667\n"
     ]
    }
   ],
   "source": [
    "f=float(input(\"enter temprature in fahrenheit\"))\n",
    "k=(5/9)*(f-32)+273.15\n",
    "print(\"temp in kelvin\",k)\n",
    "c=(5/9)*(f-32)\n",
    "print(\"temp in celcius\",c)"
   ]
  },
  {
   "cell_type": "markdown",
   "metadata": {},
   "source": [
    "#### Question 6:\n",
    "#### Write a program to demonstrate all the available data types in Python. Hint: Use type() function."
   ]
  },
  {
   "cell_type": "code",
   "execution_count": 12,
   "metadata": {},
   "outputs": [
    {
     "name": "stdout",
     "output_type": "stream",
     "text": [
      "<class 'int'>\n",
      "<class 'float'>\n",
      "<class 'complex'>\n",
      "<class 'str'>\n",
      "<class 'bool'>\n"
     ]
    }
   ],
   "source": [
    "print(type(267))\n",
    "print(type(21.345))\n",
    "print(type(2+9j))\n",
    "print(type(\"hello\"))\n",
    "print(type(True))\n"
   ]
  },
  {
   "cell_type": "markdown",
   "metadata": {},
   "source": [
    "#### Question 7:\n",
    "#### Create a Markdown cell in jupyter and list the steps discussed in the session by Dr. Darshan\n",
    "#### Ingle sir to create Github profile and upload Githubs Assignment link."
   ]
  },
  {
   "cell_type": "markdown",
   "metadata": {},
   "source": [
    "step 1 To make an account on GitHub, head on over to their webpage at https://github.com/. \n",
    "step 2 simply pick a username, enter your email address, and choose a (strong) password\n",
    "step 3 Create a Github public repo and name it LetsUpgrade AI/ML\n",
    "step 4 Upload the files/solution in the repo in day wise manner.\n",
    "step 5 Copy the URL of the Folder of that day and paste in the Assignment Submission Form (Google Form)\n",
    "step 6 Make sure you are filling correct details in the Assignment Submission Form.\n",
    "step 7 All the drop-downs will be available till the week end only. i.e Previous weeks drop-down will disappear on each Sunday 11:59 PM"
   ]
  }
 ],
 "metadata": {
  "kernelspec": {
   "display_name": "Python 3",
   "language": "python",
   "name": "python3"
  },
  "language_info": {
   "codemirror_mode": {
    "name": "ipython",
    "version": 3
   },
   "file_extension": ".py",
   "mimetype": "text/x-python",
   "name": "python",
   "nbconvert_exporter": "python",
   "pygments_lexer": "ipython3",
   "version": "3.7.6"
  }
 },
 "nbformat": 4,
 "nbformat_minor": 4
}
