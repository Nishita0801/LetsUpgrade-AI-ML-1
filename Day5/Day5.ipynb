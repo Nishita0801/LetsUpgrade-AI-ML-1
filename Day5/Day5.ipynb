{
 "cells": [
  {
   "cell_type": "markdown",
   "metadata": {},
   "source": [
    "#### Question 1 :\n",
    "Write a Python program to find the first 20 non-even prime natural numbers"
   ]
  },
  {
   "cell_type": "code",
   "execution_count": 5,
   "metadata": {},
   "outputs": [
    {
     "name": "stdout",
     "output_type": "stream",
     "text": [
      "[3, 5, 7, 11, 13, 17, 19, 23, 29, 31, 37, 41, 43, 47, 53, 59, 61, 67, 71, 73]\n"
     ]
    }
   ],
   "source": [
    "n=0\n",
    "l=[]\n",
    "\n",
    "i=3\n",
    "while n<20:\n",
    "    \n",
    "    for j in range(2,(i+1)//2):\n",
    "        if i%j==0:\n",
    "            break\n",
    "    else:\n",
    "        l.append(i)\n",
    "        n=n+1\n",
    "    i=i+2\n",
    "    \n",
    "            \n",
    "            \n",
    "print(l)\n",
    "    "
   ]
  },
  {
   "cell_type": "markdown",
   "metadata": {},
   "source": [
    "#### Question 2 :\n",
    "Write a Python program to implement 15 functions of string."
   ]
  },
  {
   "cell_type": "code",
   "execution_count": 12,
   "metadata": {},
   "outputs": [
    {
     "name": "stdout",
     "output_type": "stream",
     "text": [
      "Dr. Darshan Ingle @AI-ML Trainer\n",
      "dr. darshan ingle @ai-ml trainer\n",
      "DR. DARSHAN INGLE @AI-ML TRAINER\n",
      "dR. dARSHAN iNGLE @ai-ml tRAINER\n",
      "False\n",
      "False\n",
      "28\n",
      "False\n",
      "Dr. darshan ingle @ai-ml trainer\n",
      "Dr. Darshan Ingle @Ai-Ml Trainer\n",
      "Dr. Darshan Ingle @AI-ML Trainer\n",
      "False\n",
      "False\n",
      "Dr. Darshan Angle @AA-ML Trainer\n",
      "True\n",
      "True\n"
     ]
    }
   ],
   "source": [
    "s=input()\n",
    "print(s.lower())\n",
    "print(s.upper())\n",
    "print(s.swapcase())\n",
    "print(s.islower())\n",
    "print(s.isupper())\n",
    "print(s.rindex('i'))\n",
    "print(s.isalnum())\n",
    "print(s.capitalize())\n",
    "print(s.title())\n",
    "print(s.strip())\n",
    "print(s.isdigit())\n",
    "print(s.isspace())\n",
    "print(s.replace('I','A'))\n",
    "print(s.startswith('D'))\n",
    "print(s.endswith('r'))\n"
   ]
  },
  {
   "cell_type": "markdown",
   "metadata": {},
   "source": [
    "#### Question 3:\n",
    "Write a Python program to check if the given string is a Palindrome or Anagram or None of them.\n",
    "Display the message accordingly to the user."
   ]
  },
  {
   "cell_type": "code",
   "execution_count": 4,
   "metadata": {},
   "outputs": [
    {
     "name": "stdout",
     "output_type": "stream",
     "text": [
      "enter first string- live\n",
      "enter second string- evil\n",
      "the strings are anagram\n"
     ]
    }
   ],
   "source": [
    "s1=input(\"enter first string- \")\n",
    "s2=input(\"enter second string- \")\n",
    "if sorted(s1)==sorted(s2):\n",
    "    print(\"the strings are anagram\")\n",
    "    if s1==s1[::-1]:\n",
    "        print(\"first string is palindrome\")\n",
    "    if s2==s2[::-1]:\n",
    "        printint(\"second string is palindrome\")\n",
    "else:\n",
    "    print(\"None\")"
   ]
  },
  {
   "cell_type": "markdown",
   "metadata": {},
   "source": [
    "#### Question 4:\n",
    "Write a Python's user defined function that removes all the additional characters from the string\n",
    "and converts it finally to lower case using built-in lower(). eg: If the string is \"Dr. Darshan Ingle\n",
    "@AI-ML Trainer\", then the output be \"drdarshaningleaimltrainer\"."
   ]
  },
  {
   "cell_type": "code",
   "execution_count": 3,
   "metadata": {},
   "outputs": [
    {
     "name": "stdout",
     "output_type": "stream",
     "text": [
      "enter a stringDr. Darshan Ingle @AI-ML Trainer\n",
      "drdarshaningleaimltrainer\n"
     ]
    }
   ],
   "source": [
    "s=input(\"enter a string\")\n",
    "\n",
    "sc=['.','@','-','#','*',';',':',' ']\n",
    "\n",
    "for i in sc:\n",
    "    s=s.replace(i,'')\n",
    "print(s.lower())\n",
    "    "
   ]
  },
  {
   "cell_type": "code",
   "execution_count": null,
   "metadata": {},
   "outputs": [],
   "source": []
  },
  {
   "cell_type": "code",
   "execution_count": null,
   "metadata": {},
   "outputs": [],
   "source": []
  }
 ],
 "metadata": {
  "kernelspec": {
   "display_name": "Python 3",
   "language": "python",
   "name": "python3"
  },
  "language_info": {
   "codemirror_mode": {
    "name": "ipython",
    "version": 3
   },
   "file_extension": ".py",
   "mimetype": "text/x-python",
   "name": "python",
   "nbconvert_exporter": "python",
   "pygments_lexer": "ipython3",
   "version": "3.7.6"
  }
 },
 "nbformat": 4,
 "nbformat_minor": 4
}
